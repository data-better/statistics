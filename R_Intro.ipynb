{
  "nbformat": 4,
  "nbformat_minor": 0,
  "metadata": {
    "colab": {
      "name": "R_Intro",
      "provenance": [],
      "authorship_tag": "ABX9TyNtCweX8gyzKeDZ0keelSsh",
      "include_colab_link": true
    },
    "kernelspec": {
      "name": "ir",
      "display_name": "R"
    }
  },
  "cells": [
    {
      "cell_type": "markdown",
      "metadata": {
        "id": "view-in-github",
        "colab_type": "text"
      },
      "source": [
        "<a href=\"https://colab.research.google.com/github/data-better/statistics/blob/main/R_Intro.ipynb\" target=\"_parent\"><img src=\"https://colab.research.google.com/assets/colab-badge.svg\" alt=\"Open In Colab\"/></a>"
      ]
    },
    {
      "cell_type": "markdown",
      "metadata": {
        "id": "vlpLNVAEjDcC"
      },
      "source": [
        "## 1. R의 소개\n",
        "\n",
        "* 무료로 사용하는 데이터분석 소프트웨어 : R, Python\n",
        "* R의 설치 : https://r-project.org\n",
        "* R 개발환경 : Rstudio / Python 개발환경 : anaconda \n",
        "* 클라우드 기반 쥬피터 노트북 : 구글 Colab\n",
        "\n"
      ]
    },
    {
      "cell_type": "markdown",
      "metadata": {
        "id": "oti2n1xik5rw"
      },
      "source": [
        "## 2. 구글 Colab\n",
        "\n",
        "* 구글 id가 있어야 이용 가능, 구글 drive 이용\n",
        "* 텍스트와 코드로 구성 \n",
        "  - 텍스트 작성 : 마크다운\n",
        "  - 코드 수행 : Crtl+Enter, Shift+Enter, Alt+Enter \n",
        "* 크롬 브라우저에서 Python과 R을 실행 : R은 임시\n",
        "  - 설치 필요하지 않음\n",
        "  - GPU 무료 액세스\n",
        "* Pyhon 기반 : https://colab.research.google.com/\n",
        "* R : https://colab.research.google.com/notebook#create=true&language=r"
      ]
    },
    {
      "cell_type": "markdown",
      "metadata": {
        "id": "a_tE4omCl84L"
      },
      "source": [
        "## 3. R의 특징\n",
        "  * Colab 환경 검토 : R.Version()\n",
        "  * 설치된 library : library()\n",
        "  * 설치된 data    : data()\n"
      ]
    },
    {
      "cell_type": "code",
      "metadata": {
        "id": "ZVD9CLPGvm_8",
        "colab": {
          "base_uri": "https://localhost:8080/",
          "height": 518
        },
        "outputId": "494352f8-4b66-4683-ae87-235c8d232b46"
      },
      "source": [
        "R.Version()"
      ],
      "execution_count": 1,
      "outputs": [
        {
          "output_type": "display_data",
          "data": {
            "text/plain": [
              "$platform\n",
              "[1] \"x86_64-pc-linux-gnu\"\n",
              "\n",
              "$arch\n",
              "[1] \"x86_64\"\n",
              "\n",
              "$os\n",
              "[1] \"linux-gnu\"\n",
              "\n",
              "$system\n",
              "[1] \"x86_64, linux-gnu\"\n",
              "\n",
              "$status\n",
              "[1] \"\"\n",
              "\n",
              "$major\n",
              "[1] \"4\"\n",
              "\n",
              "$minor\n",
              "[1] \"0.5\"\n",
              "\n",
              "$year\n",
              "[1] \"2021\"\n",
              "\n",
              "$month\n",
              "[1] \"03\"\n",
              "\n",
              "$day\n",
              "[1] \"31\"\n",
              "\n",
              "$`svn rev`\n",
              "[1] \"80133\"\n",
              "\n",
              "$language\n",
              "[1] \"R\"\n",
              "\n",
              "$version.string\n",
              "[1] \"R version 4.0.5 (2021-03-31)\"\n",
              "\n",
              "$nickname\n",
              "[1] \"Shake and Throw\"\n"
            ],
            "text/latex": "\\begin{description}\n\\item[\\$platform] 'x86\\_64-pc-linux-gnu'\n\\item[\\$arch] 'x86\\_64'\n\\item[\\$os] 'linux-gnu'\n\\item[\\$system] 'x86\\_64, linux-gnu'\n\\item[\\$status] ''\n\\item[\\$major] '4'\n\\item[\\$minor] '0.5'\n\\item[\\$year] '2021'\n\\item[\\$month] '03'\n\\item[\\$day] '31'\n\\item[\\$`svn rev`] '80133'\n\\item[\\$language] 'R'\n\\item[\\$version.string] 'R version 4.0.5 (2021-03-31)'\n\\item[\\$nickname] 'Shake and Throw'\n\\end{description}\n",
            "text/markdown": "$platform\n:   'x86_64-pc-linux-gnu'\n$arch\n:   'x86_64'\n$os\n:   'linux-gnu'\n$system\n:   'x86_64, linux-gnu'\n$status\n:   ''\n$major\n:   '4'\n$minor\n:   '0.5'\n$year\n:   '2021'\n$month\n:   '03'\n$day\n:   '31'\n$`svn rev`\n:   '80133'\n$language\n:   'R'\n$version.string\n:   'R version 4.0.5 (2021-03-31)'\n$nickname\n:   'Shake and Throw'\n\n\n",
            "text/html": [
              "<dl>\n",
              "\t<dt>$platform</dt>\n",
              "\t\t<dd>'x86_64-pc-linux-gnu'</dd>\n",
              "\t<dt>$arch</dt>\n",
              "\t\t<dd>'x86_64'</dd>\n",
              "\t<dt>$os</dt>\n",
              "\t\t<dd>'linux-gnu'</dd>\n",
              "\t<dt>$system</dt>\n",
              "\t\t<dd>'x86_64, linux-gnu'</dd>\n",
              "\t<dt>$status</dt>\n",
              "\t\t<dd>''</dd>\n",
              "\t<dt>$major</dt>\n",
              "\t\t<dd>'4'</dd>\n",
              "\t<dt>$minor</dt>\n",
              "\t\t<dd>'0.5'</dd>\n",
              "\t<dt>$year</dt>\n",
              "\t\t<dd>'2021'</dd>\n",
              "\t<dt>$month</dt>\n",
              "\t\t<dd>'03'</dd>\n",
              "\t<dt>$day</dt>\n",
              "\t\t<dd>'31'</dd>\n",
              "\t<dt>$`svn rev`</dt>\n",
              "\t\t<dd>'80133'</dd>\n",
              "\t<dt>$language</dt>\n",
              "\t\t<dd>'R'</dd>\n",
              "\t<dt>$version.string</dt>\n",
              "\t\t<dd>'R version 4.0.5 (2021-03-31)'</dd>\n",
              "\t<dt>$nickname</dt>\n",
              "\t\t<dd>'Shake and Throw'</dd>\n",
              "</dl>\n"
            ]
          },
          "metadata": {
            "tags": []
          }
        }
      ]
    },
    {
      "cell_type": "markdown",
      "metadata": {
        "id": "YadhL13YnEFO"
      },
      "source": [
        "## 4. R 기초"
      ]
    },
    {
      "cell_type": "code",
      "metadata": {
        "colab": {
          "base_uri": "https://localhost:8080/",
          "height": 50
        },
        "id": "jMIKXb-pz7yd",
        "outputId": "739f35e2-a892-46cc-e672-06f112c22935"
      },
      "source": [
        "# 계산과 변수 지정\n",
        "\n",
        "1+2\n",
        "a = 10\n",
        "b <- 2\n",
        "a+b"
      ],
      "execution_count": 2,
      "outputs": [
        {
          "output_type": "display_data",
          "data": {
            "text/plain": [
              "[1] 3"
            ],
            "text/latex": "3",
            "text/markdown": "3",
            "text/html": [
              "3"
            ]
          },
          "metadata": {
            "tags": []
          }
        },
        {
          "output_type": "display_data",
          "data": {
            "text/plain": [
              "[1] 12"
            ],
            "text/latex": "12",
            "text/markdown": "12",
            "text/html": [
              "12"
            ]
          },
          "metadata": {
            "tags": []
          }
        }
      ]
    },
    {
      "cell_type": "code",
      "metadata": {
        "colab": {
          "base_uri": "https://localhost:8080/"
        },
        "id": "LMHCfpDPoApm",
        "outputId": "5d8c6f3a-1e53-4d17-f426-fb404236bda4"
      },
      "source": [
        "# 데이터 형태\n",
        "a1 = c(1,2,5)\n",
        "print(a1)\n",
        "b1 <- c(1,2, 'aa', TRUE)\n",
        "print(b1)\n",
        "c1 <- matrix(1:12, 4,3)\n",
        "print(c1)"
      ],
      "execution_count": 3,
      "outputs": [
        {
          "output_type": "stream",
          "text": [
            "[1] 1 2 5\n",
            "[1] \"1\"    \"2\"    \"aa\"   \"TRUE\"\n",
            "     [,1] [,2] [,3]\n",
            "[1,]    1    5    9\n",
            "[2,]    2    6   10\n",
            "[3,]    3    7   11\n",
            "[4,]    4    8   12\n"
          ],
          "name": "stdout"
        }
      ]
    },
    {
      "cell_type": "markdown",
      "metadata": {
        "id": "lY6UpLDifVY2"
      },
      "source": [
        "## 예제 1-20"
      ]
    },
    {
      "cell_type": "code",
      "metadata": {
        "id": "814bHv8hfYxR",
        "colab": {
          "base_uri": "https://localhost:8080/",
          "height": 708
        },
        "outputId": "c10dbbde-c4d6-49c3-a79d-076dee5411c7"
      },
      "source": [
        "bp = read.csv(\"https://raw.githubusercontent.com/data-better/statistics/main/ex120.csv\")\n",
        "bp"
      ],
      "execution_count": 4,
      "outputs": [
        {
          "output_type": "display_data",
          "data": {
            "text/plain": [
              "   no   sex age dose bp_s  bp_e \n",
              "1  1001 M   45  2    100.2 100.1\n",
              "2  1002 M   41  1     98.5 100.0\n",
              "3  1003 F   51  2    100.8 101.1\n",
              "4  1004 F   46  2    101.1 100.9\n",
              "5  1005 F   47  3    100.0  99.8\n",
              "6  1006 M   42  2     99.0 100.2\n",
              "7  1007 M   43  4    100.7 100.7\n",
              "8  1008 F   50  2    100.3 100.9\n",
              "9  1009 M   39  1    100.6 101.0\n",
              "10 1010 M   32  1     99.9  98.5\n",
              "11 1011 M   41  2    101.0 101.4\n",
              "12 1012 M   44  2    100.9 100.8\n",
              "13 1013 F   47  2     97.4  96.2\n",
              "14 1014 F   49  3     98.8  99.6\n",
              "15 1015 M   45  3    100.9 100.0\n",
              "16 1016 F   42  1    101.1 100.1\n",
              "17 1017 M   41  2    100.7 100.3\n",
              "18 1018 F   40  1     97.8  98.1\n",
              "19 1019 M   45  2    100.0 100.4\n",
              "20 1020 M   37  3    101.5 100.8"
            ],
            "text/latex": "A data.frame: 20 × 6\n\\begin{tabular}{llllll}\n no & sex & age & dose & bp\\_s & bp\\_e\\\\\n <int> & <chr> & <int> & <int> & <dbl> & <dbl>\\\\\n\\hline\n\t 1001 & M & 45 & 2 & 100.2 & 100.1\\\\\n\t 1002 & M & 41 & 1 &  98.5 & 100.0\\\\\n\t 1003 & F & 51 & 2 & 100.8 & 101.1\\\\\n\t 1004 & F & 46 & 2 & 101.1 & 100.9\\\\\n\t 1005 & F & 47 & 3 & 100.0 &  99.8\\\\\n\t 1006 & M & 42 & 2 &  99.0 & 100.2\\\\\n\t 1007 & M & 43 & 4 & 100.7 & 100.7\\\\\n\t 1008 & F & 50 & 2 & 100.3 & 100.9\\\\\n\t 1009 & M & 39 & 1 & 100.6 & 101.0\\\\\n\t 1010 & M & 32 & 1 &  99.9 &  98.5\\\\\n\t 1011 & M & 41 & 2 & 101.0 & 101.4\\\\\n\t 1012 & M & 44 & 2 & 100.9 & 100.8\\\\\n\t 1013 & F & 47 & 2 &  97.4 &  96.2\\\\\n\t 1014 & F & 49 & 3 &  98.8 &  99.6\\\\\n\t 1015 & M & 45 & 3 & 100.9 & 100.0\\\\\n\t 1016 & F & 42 & 1 & 101.1 & 100.1\\\\\n\t 1017 & M & 41 & 2 & 100.7 & 100.3\\\\\n\t 1018 & F & 40 & 1 &  97.8 &  98.1\\\\\n\t 1019 & M & 45 & 2 & 100.0 & 100.4\\\\\n\t 1020 & M & 37 & 3 & 101.5 & 100.8\\\\\n\\end{tabular}\n",
            "text/markdown": "\nA data.frame: 20 × 6\n\n| no &lt;int&gt; | sex &lt;chr&gt; | age &lt;int&gt; | dose &lt;int&gt; | bp_s &lt;dbl&gt; | bp_e &lt;dbl&gt; |\n|---|---|---|---|---|---|\n| 1001 | M | 45 | 2 | 100.2 | 100.1 |\n| 1002 | M | 41 | 1 |  98.5 | 100.0 |\n| 1003 | F | 51 | 2 | 100.8 | 101.1 |\n| 1004 | F | 46 | 2 | 101.1 | 100.9 |\n| 1005 | F | 47 | 3 | 100.0 |  99.8 |\n| 1006 | M | 42 | 2 |  99.0 | 100.2 |\n| 1007 | M | 43 | 4 | 100.7 | 100.7 |\n| 1008 | F | 50 | 2 | 100.3 | 100.9 |\n| 1009 | M | 39 | 1 | 100.6 | 101.0 |\n| 1010 | M | 32 | 1 |  99.9 |  98.5 |\n| 1011 | M | 41 | 2 | 101.0 | 101.4 |\n| 1012 | M | 44 | 2 | 100.9 | 100.8 |\n| 1013 | F | 47 | 2 |  97.4 |  96.2 |\n| 1014 | F | 49 | 3 |  98.8 |  99.6 |\n| 1015 | M | 45 | 3 | 100.9 | 100.0 |\n| 1016 | F | 42 | 1 | 101.1 | 100.1 |\n| 1017 | M | 41 | 2 | 100.7 | 100.3 |\n| 1018 | F | 40 | 1 |  97.8 |  98.1 |\n| 1019 | M | 45 | 2 | 100.0 | 100.4 |\n| 1020 | M | 37 | 3 | 101.5 | 100.8 |\n\n",
            "text/html": [
              "<table class=\"dataframe\">\n",
              "<caption>A data.frame: 20 × 6</caption>\n",
              "<thead>\n",
              "\t<tr><th scope=col>no</th><th scope=col>sex</th><th scope=col>age</th><th scope=col>dose</th><th scope=col>bp_s</th><th scope=col>bp_e</th></tr>\n",
              "\t<tr><th scope=col>&lt;int&gt;</th><th scope=col>&lt;chr&gt;</th><th scope=col>&lt;int&gt;</th><th scope=col>&lt;int&gt;</th><th scope=col>&lt;dbl&gt;</th><th scope=col>&lt;dbl&gt;</th></tr>\n",
              "</thead>\n",
              "<tbody>\n",
              "\t<tr><td>1001</td><td>M</td><td>45</td><td>2</td><td>100.2</td><td>100.1</td></tr>\n",
              "\t<tr><td>1002</td><td>M</td><td>41</td><td>1</td><td> 98.5</td><td>100.0</td></tr>\n",
              "\t<tr><td>1003</td><td>F</td><td>51</td><td>2</td><td>100.8</td><td>101.1</td></tr>\n",
              "\t<tr><td>1004</td><td>F</td><td>46</td><td>2</td><td>101.1</td><td>100.9</td></tr>\n",
              "\t<tr><td>1005</td><td>F</td><td>47</td><td>3</td><td>100.0</td><td> 99.8</td></tr>\n",
              "\t<tr><td>1006</td><td>M</td><td>42</td><td>2</td><td> 99.0</td><td>100.2</td></tr>\n",
              "\t<tr><td>1007</td><td>M</td><td>43</td><td>4</td><td>100.7</td><td>100.7</td></tr>\n",
              "\t<tr><td>1008</td><td>F</td><td>50</td><td>2</td><td>100.3</td><td>100.9</td></tr>\n",
              "\t<tr><td>1009</td><td>M</td><td>39</td><td>1</td><td>100.6</td><td>101.0</td></tr>\n",
              "\t<tr><td>1010</td><td>M</td><td>32</td><td>1</td><td> 99.9</td><td> 98.5</td></tr>\n",
              "\t<tr><td>1011</td><td>M</td><td>41</td><td>2</td><td>101.0</td><td>101.4</td></tr>\n",
              "\t<tr><td>1012</td><td>M</td><td>44</td><td>2</td><td>100.9</td><td>100.8</td></tr>\n",
              "\t<tr><td>1013</td><td>F</td><td>47</td><td>2</td><td> 97.4</td><td> 96.2</td></tr>\n",
              "\t<tr><td>1014</td><td>F</td><td>49</td><td>3</td><td> 98.8</td><td> 99.6</td></tr>\n",
              "\t<tr><td>1015</td><td>M</td><td>45</td><td>3</td><td>100.9</td><td>100.0</td></tr>\n",
              "\t<tr><td>1016</td><td>F</td><td>42</td><td>1</td><td>101.1</td><td>100.1</td></tr>\n",
              "\t<tr><td>1017</td><td>M</td><td>41</td><td>2</td><td>100.7</td><td>100.3</td></tr>\n",
              "\t<tr><td>1018</td><td>F</td><td>40</td><td>1</td><td> 97.8</td><td> 98.1</td></tr>\n",
              "\t<tr><td>1019</td><td>M</td><td>45</td><td>2</td><td>100.0</td><td>100.4</td></tr>\n",
              "\t<tr><td>1020</td><td>M</td><td>37</td><td>3</td><td>101.5</td><td>100.8</td></tr>\n",
              "</tbody>\n",
              "</table>\n"
            ]
          },
          "metadata": {
            "tags": []
          }
        }
      ]
    },
    {
      "cell_type": "code",
      "metadata": {
        "id": "7Pjlb-yjgr6Y",
        "colab": {
          "base_uri": "https://localhost:8080/",
          "height": 266
        },
        "outputId": "8eda901b-4a4d-44ae-902d-12e61633a0ee"
      },
      "source": [
        "summary(bp)"
      ],
      "execution_count": 5,
      "outputs": [
        {
          "output_type": "display_data",
          "data": {
            "text/plain": [
              "       no           sex                 age             dose     \n",
              " Min.   :1001   Length:20          Min.   :32.00   Min.   :1.00  \n",
              " 1st Qu.:1006   Class :character   1st Qu.:41.00   1st Qu.:1.75  \n",
              " Median :1010   Mode  :character   Median :43.50   Median :2.00  \n",
              " Mean   :1010                      Mean   :43.35   Mean   :2.05  \n",
              " 3rd Qu.:1015                      3rd Qu.:46.25   3rd Qu.:2.25  \n",
              " Max.   :1020                      Max.   :51.00   Max.   :4.00  \n",
              "      bp_s             bp_e       \n",
              " Min.   : 97.40   Min.   : 96.20  \n",
              " 1st Qu.: 99.67   1st Qu.: 99.95  \n",
              " Median :100.45   Median :100.25  \n",
              " Mean   :100.06   Mean   :100.05  \n",
              " 3rd Qu.:100.90   3rd Qu.:100.83  \n",
              " Max.   :101.50   Max.   :101.40  "
            ]
          },
          "metadata": {
            "tags": []
          }
        }
      ]
    },
    {
      "cell_type": "code",
      "metadata": {
        "id": "5E4ER8Kxg1At",
        "colab": {
          "base_uri": "https://localhost:8080/",
          "height": 437
        },
        "outputId": "0e230844-efe6-4fdd-e1db-d17536f171d4"
      },
      "source": [
        "hist(bp$age)"
      ],
      "execution_count": 6,
      "outputs": [
        {
          "output_type": "display_data",
          "data": {
            "image/png": "[encoded data removed]",
            "text/plain": [
              "Plot with title “Histogram of bp$age”"
            ]
          },
          "metadata": {
            "tags": [],
            "image/png": {
              "width": 420,
              "height": 420
            }
          }
        }
      ]
    },
    {
      "cell_type": "code",
      "metadata": {
        "id": "xks5tWd0hRVl",
        "colab": {
          "base_uri": "https://localhost:8080/",
          "height": 437
        },
        "outputId": "4c9e1661-0ee4-4cd5-a9f9-e9ec4e5a151c"
      },
      "source": [
        "dotchart(bp$age)"
      ],
      "execution_count": 7,
      "outputs": [
        {
          "output_type": "display_data",
          "data": {
            "image/png": "[encoded data removed]",
            "text/plain": [
              "plot without title"
            ]
          },
          "metadata": {
            "tags": [],
            "image/png": {
              "width": 420,
              "height": 420
            }
          }
        }
      ]
    },
    {
      "cell_type": "code",
      "metadata": {
        "id": "8A-hhKr5hhOZ",
        "colab": {
          "base_uri": "https://localhost:8080/"
        },
        "outputId": "3c7a3473-e12b-4723-988e-9bdfa1950aa3"
      },
      "source": [
        "stem(bp$age)"
      ],
      "execution_count": 8,
      "outputs": [
        {
          "output_type": "stream",
          "text": [
            "\n",
            "  The decimal point is 1 digit(s) to the right of the |\n",
            "\n",
            "  3 | 2\n",
            "  3 | 79\n",
            "  4 | 01112234\n",
            "  4 | 5556779\n",
            "  5 | 01\n",
            "\n"
          ],
          "name": "stdout"
        }
      ]
    },
    {
      "cell_type": "code",
      "metadata": {
        "id": "eNtpuLOAhnY5",
        "colab": {
          "base_uri": "https://localhost:8080/",
          "height": 437
        },
        "outputId": "b2f27448-0937-46f4-99e0-e27d0b831fb9"
      },
      "source": [
        "boxplot(bp$age)"
      ],
      "execution_count": 9,
      "outputs": [
        {
          "output_type": "display_data",
          "data": {
            "image/png": "[encoded data removed]",
            "text/plain": [
              "plot without title"
            ]
          },
          "metadata": {
            "tags": [],
            "image/png": {
              "width": 420,
              "height": 420
            }
          }
        }
      ]
    },
    {
      "cell_type": "code",
      "metadata": {
        "id": "vG-sjkV9hzOG",
        "colab": {
          "base_uri": "https://localhost:8080/",
          "height": 70
        },
        "outputId": "a79cda12-b5f0-428a-d24e-3ecfd3b28774"
      },
      "source": [
        "table(bp$sex)"
      ],
      "execution_count": 10,
      "outputs": [
        {
          "output_type": "display_data",
          "data": {
            "text/plain": [
              "\n",
              " F  M \n",
              " 8 12 "
            ]
          },
          "metadata": {
            "tags": []
          }
        }
      ]
    },
    {
      "cell_type": "code",
      "metadata": {
        "id": "gNpImSwPifsv"
      },
      "source": [
        "man =c(49,58,62,86,82,72,40,52,65,45,56,60,48,50,\n",
        "       64,93,85,70,97,80,78,58,60,67,58,62,69,98,80,88)\n",
        "woman=c(60,68,72,72,66,67,65,61,75,62,78,72,62,79,64,\n",
        "        71,74,74,58,73)"
      ],
      "execution_count": 11,
      "outputs": []
    },
    {
      "cell_type": "code",
      "metadata": {
        "id": "rgaLVsIFj7T7",
        "colab": {
          "base_uri": "https://localhost:8080/",
          "height": 52
        },
        "outputId": "fd377904-46da-416a-efa7-8d47bb07757b"
      },
      "source": [
        "summary(man)"
      ],
      "execution_count": 12,
      "outputs": [
        {
          "output_type": "display_data",
          "data": {
            "text/plain": [
              "   Min. 1st Qu.  Median    Mean 3rd Qu.    Max. \n",
              "  40.00   58.00   64.50   67.73   80.00   98.00 "
            ]
          },
          "metadata": {
            "tags": []
          }
        }
      ]
    },
    {
      "cell_type": "code",
      "metadata": {
        "id": "1wEDJ55Pj9hJ",
        "colab": {
          "base_uri": "https://localhost:8080/",
          "height": 52
        },
        "outputId": "d043044b-22e8-4c26-90e4-a8bd076adf19"
      },
      "source": [
        "summary(woman)"
      ],
      "execution_count": 13,
      "outputs": [
        {
          "output_type": "display_data",
          "data": {
            "text/plain": [
              "   Min. 1st Qu.  Median    Mean 3rd Qu.    Max. \n",
              "  58.00   63.50   69.50   68.65   73.25   79.00 "
            ]
          },
          "metadata": {
            "tags": []
          }
        }
      ]
    },
    {
      "cell_type": "code",
      "metadata": {
        "id": "qKZus69xj_gM",
        "colab": {
          "base_uri": "https://localhost:8080/",
          "height": 437
        },
        "outputId": "a3d00623-6259-4d8e-b2e2-564f92f19d5b"
      },
      "source": [
        "hist(man)"
      ],
      "execution_count": 14,
      "outputs": [
        {
          "output_type": "display_data",
          "data": {
            "image/png": "[encoded data removed]",
            "text/plain": [
              "Plot with title “Histogram of man”"
            ]
          },
          "metadata": {
            "tags": [],
            "image/png": {
              "width": 420,
              "height": 420
            }
          }
        }
      ]
    },
    {
      "cell_type": "code",
      "metadata": {
        "id": "6Gm_kByqkCGz",
        "colab": {
          "base_uri": "https://localhost:8080/",
          "height": 437
        },
        "outputId": "559e5dd4-98b8-4103-b990-b332c2398b8f"
      },
      "source": [
        "hist(woman)"
      ],
      "execution_count": 15,
      "outputs": [
        {
          "output_type": "display_data",
          "data": {
            "image/png": "[encoded data removed]",
            "text/plain": [
              "Plot with title “Histogram of woman”"
            ]
          },
          "metadata": {
            "tags": [],
            "image/png": {
              "width": 420,
              "height": 420
            }
          }
        }
      ]
    },
    {
      "cell_type": "code",
      "metadata": {
        "id": "OLfnVDdmkF4T",
        "colab": {
          "base_uri": "https://localhost:8080/",
          "height": 559
        },
        "outputId": "2f494649-3d67-4847-dc28-44da231783f0"
      },
      "source": [
        "data = read.csv(\"https://raw.githubusercontent.com/data-better/statistics/main/ex66.csv\")\n",
        "head(data)\n",
        "tail(data)"
      ],
      "execution_count": 16,
      "outputs": [
        {
          "output_type": "display_data",
          "data": {
            "text/plain": [
              "  sex score\n",
              "1 M   49   \n",
              "2 M   86   \n",
              "3 M   40   \n",
              "4 M   45   \n",
              "5 M   48   \n",
              "6 M   93   "
            ],
            "text/latex": "A data.frame: 6 × 2\n\\begin{tabular}{r|ll}\n  & sex & score\\\\\n  & <chr> & <int>\\\\\n\\hline\n\t1 & M & 49\\\\\n\t2 & M & 86\\\\\n\t3 & M & 40\\\\\n\t4 & M & 45\\\\\n\t5 & M & 48\\\\\n\t6 & M & 93\\\\\n\\end{tabular}\n",
            "text/markdown": "\nA data.frame: 6 × 2\n\n| <!--/--> | sex &lt;chr&gt; | score &lt;int&gt; |\n|---|---|---|\n| 1 | M | 49 |\n| 2 | M | 86 |\n| 3 | M | 40 |\n| 4 | M | 45 |\n| 5 | M | 48 |\n| 6 | M | 93 |\n\n",
            "text/html": [
              "<table class=\"dataframe\">\n",
              "<caption>A data.frame: 6 × 2</caption>\n",
              "<thead>\n",
              "\t<tr><th></th><th scope=col>sex</th><th scope=col>score</th></tr>\n",
              "\t<tr><th></th><th scope=col>&lt;chr&gt;</th><th scope=col>&lt;int&gt;</th></tr>\n",
              "</thead>\n",
              "<tbody>\n",
              "\t<tr><th scope=row>1</th><td>M</td><td>49</td></tr>\n",
              "\t<tr><th scope=row>2</th><td>M</td><td>86</td></tr>\n",
              "\t<tr><th scope=row>3</th><td>M</td><td>40</td></tr>\n",
              "\t<tr><th scope=row>4</th><td>M</td><td>45</td></tr>\n",
              "\t<tr><th scope=row>5</th><td>M</td><td>48</td></tr>\n",
              "\t<tr><th scope=row>6</th><td>M</td><td>93</td></tr>\n",
              "</tbody>\n",
              "</table>\n"
            ]
          },
          "metadata": {
            "tags": []
          }
        },
        {
          "output_type": "display_data",
          "data": {
            "text/plain": [
              "   sex score\n",
              "45 F   62   \n",
              "46 F   72   \n",
              "47 F   79   \n",
              "48 F   71   \n",
              "49 F   74   \n",
              "50 F   73   "
            ],
            "text/latex": "A data.frame: 6 × 2\n\\begin{tabular}{r|ll}\n  & sex & score\\\\\n  & <chr> & <int>\\\\\n\\hline\n\t45 & F & 62\\\\\n\t46 & F & 72\\\\\n\t47 & F & 79\\\\\n\t48 & F & 71\\\\\n\t49 & F & 74\\\\\n\t50 & F & 73\\\\\n\\end{tabular}\n",
            "text/markdown": "\nA data.frame: 6 × 2\n\n| <!--/--> | sex &lt;chr&gt; | score &lt;int&gt; |\n|---|---|---|\n| 45 | F | 62 |\n| 46 | F | 72 |\n| 47 | F | 79 |\n| 48 | F | 71 |\n| 49 | F | 74 |\n| 50 | F | 73 |\n\n",
            "text/html": [
              "<table class=\"dataframe\">\n",
              "<caption>A data.frame: 6 × 2</caption>\n",
              "<thead>\n",
              "\t<tr><th></th><th scope=col>sex</th><th scope=col>score</th></tr>\n",
              "\t<tr><th></th><th scope=col>&lt;chr&gt;</th><th scope=col>&lt;int&gt;</th></tr>\n",
              "</thead>\n",
              "<tbody>\n",
              "\t<tr><th scope=row>45</th><td>F</td><td>62</td></tr>\n",
              "\t<tr><th scope=row>46</th><td>F</td><td>72</td></tr>\n",
              "\t<tr><th scope=row>47</th><td>F</td><td>79</td></tr>\n",
              "\t<tr><th scope=row>48</th><td>F</td><td>71</td></tr>\n",
              "\t<tr><th scope=row>49</th><td>F</td><td>74</td></tr>\n",
              "\t<tr><th scope=row>50</th><td>F</td><td>73</td></tr>\n",
              "</tbody>\n",
              "</table>\n"
            ]
          },
          "metadata": {
            "tags": []
          }
        }
      ]
    },
    {
      "cell_type": "code",
      "metadata": {
        "id": "BJ1Htpa_nS5r"
      },
      "source": [
        "library(ggplot2)"
      ],
      "execution_count": 17,
      "outputs": []
    },
    {
      "cell_type": "code",
      "metadata": {
        "id": "aTpkP_2JmLIu",
        "colab": {
          "base_uri": "https://localhost:8080/",
          "height": 437
        },
        "outputId": "8377ce7c-2906-4293-9243-b5e2ff39fb0c"
      },
      "source": [
        "ggplot(data, aes(x = score)) +\n",
        "  geom_histogram(fill = \"white\", colour = \"black\", binwidth = 5) +\n",
        "  facet_grid(sex ~ .)"
      ],
      "execution_count": 18,
      "outputs": [
        {
          "output_type": "display_data",
          "data": {
            "image/png": "[encoded data removed]",
            "text/plain": [
              "plot without title"
            ]
          },
          "metadata": {
            "tags": [],
            "image/png": {
              "width": 420,
              "height": 420
            }
          }
        }
      ]
    },
    {
      "cell_type": "code",
      "metadata": {
        "colab": {
          "base_uri": "https://localhost:8080/",
          "height": 437
        },
        "id": "-WGZaFLPV5-B",
        "outputId": "d3f55ba0-05eb-4538-af37-87412b6eb28a"
      },
      "source": [
        "ggplot(data, aes(x = sex, y = score)) +\n",
        "  geom_boxplot()"
      ],
      "execution_count": 19,
      "outputs": [
        {
          "output_type": "display_data",
          "data": {
            "image/png": "[encoded data removed]",
            "text/plain": [
              "plot without title"
            ]
          },
          "metadata": {
            "tags": [],
            "image/png": {
              "width": 420,
              "height": 420
            }
          }
        }
      ]
    },
    {
      "cell_type": "code",
      "metadata": {
        "colab": {
          "base_uri": "https://localhost:8080/"
        },
        "id": "CmjwBW0WWdJ7",
        "outputId": "3377a571-e48e-4599-9b60-bb75987865af"
      },
      "source": [
        "stem(data$score)"
      ],
      "execution_count": 20,
      "outputs": [
        {
          "output_type": "stream",
          "text": [
            "\n",
            "  The decimal point is 1 digit(s) to the right of the |\n",
            "\n",
            "  4 | 0589\n",
            "  5 | 0268888\n",
            "  6 | 00012222445567789\n",
            "  7 | 0122223445889\n",
            "  8 | 002568\n",
            "  9 | 378\n",
            "\n"
          ],
          "name": "stdout"
        }
      ]
    }
  ]
}